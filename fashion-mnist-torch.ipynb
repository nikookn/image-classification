{
 "cells": [
  {
   "cell_type": "markdown",
   "metadata": {},
   "source": [
    "# THE FASHION MNIST of clothing\n",
    "\n",
    "[Fashion MNIST](https://github.com/zalandoresearch/fashion-mnist) is a dataset of Zalando's article images—consisting of a training set of 60,000 examples and a test set of 10,000 examples. Each example is a 28x28 grayscale image, associated with a label from 10 classes.\n"
   ]
  },
  {
   "cell_type": "code",
   "execution_count": 1,
   "metadata": {},
   "outputs": [],
   "source": [
    "import torch\n",
    "from torch import nn\n",
    "from torch import optim\n",
    "from torchvision import transforms, datasets\n",
    "\n",
    "import numpy as np\n",
    "import matplotlib.pyplot as plt"
   ]
  },
  {
   "cell_type": "markdown",
   "metadata": {},
   "source": [
    "## Import the Fashion MNIST dataset\n",
    "\n",
    "This dataset consists of four files:\n",
    "```\n",
    "train-images-idx3-ubyte.gz   training set images (60,000)\n",
    "train-labels-idx1-ubyte.gz   training set labels (60,000)\n",
    "t10k-images-idx3-ubyte.gz    test set images     (10,000)\n",
    "t10k-labels-idx1-ubyte.gz    test set labels     (10,000)\n",
    "```\n",
    "\n",
    "You can manually download, load and prepare this dataset like this:\n",
    "```python\n",
    "from pathlib import Path\n",
    "import requests\n",
    "import gzip\n",
    "import numpy as np\n",
    "\n",
    "data_path = Path(\"data\") / \"FashionMNIST\" / \"raw\"\n",
    "data_path.mkdir(parents=True, exist_ok=True)\n",
    "\n",
    "fashion_mnist_url = \"http://fashion-mnist.s3-website.eu-central-1.amazonaws.com/\"\n",
    "train_images_fn = \"train-images-idx3-ubyte.gz\"\n",
    "train_labels_fn = \"train-labels-idx1-ubyte.gz\"\n",
    "test_images_fn = \"t10k-images-idx3-ubyte.gz\"\n",
    "test_labels_fn = \"t10k-labels-idx1-ubyte.gz\"\n",
    "\n",
    "for filename in [train_images_fn, train_labels_fn, test_images_fn, test_labels_fn]:\n",
    "    if not (data_path / filename).exists():\n",
    "        content = requests.get(fashion_mnist_url + filename).content\n",
    "        (data_path / filename).open(\"wb\").write(content)\n",
    "\n",
    "with gzip.open((data_path / train_images_fn).as_posix(), \"rb\") as f:\n",
    "    x_train = np.frombuffer(f.read(), dtype=np.uint8, offset=16).reshape((-1, 28, 28))\n",
    "with gzip.open((data_path / train_labels_fn).as_posix(), \"rb\") as f:\n",
    "    y_train = np.frombuffer(f.read(), dtype=np.uint8, offset=8)\n",
    "with gzip.open((data_path / test_images_fn).as_posix(), \"rb\") as f:\n",
    "    x_test = np.frombuffer(f.read(), dtype=np.uint8, offset=16).reshape((-1, 28, 28))\n",
    "with gzip.open((data_path / test_labels_fn).as_posix(), \"rb\") as f:\n",
    "    y_test = np.frombuffer(f.read(), dtype=np.uint8, offset=8)\n",
    "    \n",
    "x_train, x_test = x_train / 255.0, x_test / 255.0\n",
    "\n",
    "train_images = torch.tensor(x_train, dtype=torch.float32)\n",
    "train_labels = torch.tensor(y_train, dtype=torch.int64)\n",
    "test_images = torch.tensor(x_test, dtype=torch.float32)\n",
    "test_labels = torch.tensor(y_test, dtype=torch.int64)\n",
    "\n",
    "train_set = torch.utils.data.TensorDataset(train_images, train_labels)\n",
    "test_set = torch.utils.data.TensorDataset(test_images, test_labels)\n",
    "```\n",
    "\n",
    "However, ``torchvision.datasets`` has a helper function, ``datasets.FashionMNIST``, that allows you to do this process easily.\n"
   ]
  },
  {
   "cell_type": "code",
   "execution_count": 2,
   "metadata": {},
   "outputs": [],
   "source": [
    "transform = transforms.Compose([\n",
    "    transforms.ToTensor(),\n",
    "    transforms.Normalize((0.0,), (1.0,))\n",
    "])\n",
    "train_set = datasets.FashionMNIST('./data', download=True, train=True, transform=transform)\n",
    "test_set = datasets.FashionMNIST('./data', download=True, train=False, transform=transform)"
   ]
  },
  {
   "cell_type": "markdown",
   "metadata": {},
   "source": [
    "Then, you can use [DataLoader](https://pytorch.org/docs/stable/data.html#torch.utils.data.DataLoader) to iterate over batches of a dataset.\n"
   ]
  },
  {
   "cell_type": "code",
   "execution_count": 3,
   "metadata": {},
   "outputs": [],
   "source": [
    "train_loader = torch.utils.data.DataLoader(train_set, batch_size=32, shuffle=True, num_workers=0)\n",
    "test_loader = torch.utils.data.DataLoader(test_set, batch_size=32, shuffle=False, num_workers=0)"
   ]
  },
  {
   "cell_type": "markdown",
   "metadata": {},
   "source": [
    "After wrapping the training set and test set with ``DataLoader``, you can access images and labels in a ``for`` loop like this:\n",
    "```python\n",
    "for images, labels in train_loader:\n",
    "    # do something with `images` and `labels`\n",
    "```\n",
    "\n",
    "However, the downloaded dataset can be loaded for preview. The downloaded files are stored in ``FashionMNIST/processed/`` relative to the root directory you specified above in ``datasets.FashionMNIST`` call.\n"
   ]
  },
  {
   "cell_type": "code",
   "execution_count": 4,
   "metadata": {},
   "outputs": [],
   "source": [
    "train_images, train_labels = map(np.asarray, torch.load(\"./data/FashionMNIST/processed/training.pt\"))\n",
    "test_images, test_labels = map(np.asarray, torch.load(\"./data/FashionMNIST/processed/test.pt\"))"
   ]
  },
  {
   "cell_type": "markdown",
   "metadata": {},
   "source": [
    "Loading the dataset returns four tensor arrays:\n",
    "\n",
    "- The `train_images` and `train_labels` arrays are the *training set*—the data the model uses to learn.\n",
    "- The model is tested against the *test set*, the `test_images`, and `test_labels` arrays.\n",
    "\n",
    "The *images* are 28x28 tensor arrays, with pixel values ranging from 0 to 255. Note that the ``tranform`` has not been applied to the ``train_images`` and ``test_images``. Images that are returned by ``train_loader`` or ``test_loader`` will be transformed. The *labels* are an array of integers, ranging from 0 to 9. These correspond to the *class* of clothing the image represents:\n",
    "\n",
    "<table>\n",
    "  <tr><th>Label</th><th>Class</th></tr>\n",
    "  <tr><td>0</td><td>T-shirt/top</td></tr>\n",
    "  <tr><td>1</td><td>Trouser</td></tr>\n",
    "  <tr><td>2</td><td>Pullover</td></tr>\n",
    "  <tr><td>3</td><td>Dress</td></tr>\n",
    "  <tr><td>4</td><td>Coat</td></tr>\n",
    "  <tr><td>5</td><td>Sandal</td></tr>\n",
    "  <tr><td>6</td><td>Shirt</td></tr>\n",
    "  <tr><td>7</td><td>Sneaker</td></tr>\n",
    "  <tr><td>8</td><td>Bag</td></tr>\n",
    "  <tr><td>9</td><td>Ankle boot</td></tr>\n",
    "</table>\n",
    "\n",
    "Each image is mapped to a single label. Since the *class names* are not included with the dataset, store them here to use later when plotting the images:\n"
   ]
  },
  {
   "cell_type": "code",
   "execution_count": 5,
   "metadata": {},
   "outputs": [],
   "source": [
    "class_names = ['T-shirt/top', 'Trouser', 'Pullover', 'Dress', 'Coat',\n",
    "               'Sandal', 'Shirt', 'Sneaker', 'Bag', 'Ankle boot']"
   ]
  },
  {
   "cell_type": "markdown",
   "metadata": {},
   "source": [
    "## Preprocess the data\n",
    "\n",
    "The data must be preprocessed before training the network. If you inspect the first image in the training set, you will see that the pixel values fall in the range of 0 to 255:\n"
   ]
  },
  {
   "cell_type": "code",
   "execution_count": 6,
   "metadata": {},
   "outputs": [
    {
     "data": {
      "image/png": "[encoded data removed]",
      "text/plain": [
       "<Figure size 432x288 with 2 Axes>"
      ]
     },
     "metadata": {
      "needs_background": "light"
     },
     "output_type": "display_data"
    }
   ],
   "source": [
    "plt.figure()\n",
    "plt.imshow(train_images[0])\n",
    "plt.colorbar()\n",
    "plt.grid(False)\n",
    "plt.show()"
   ]
  },
  {
   "cell_type": "markdown",
   "metadata": {},
   "source": [
    "Scale these values to a range of 0 to 1 before feeding them to the neural network model. To do so, divide the values by 255. It's important that the *training set* and the *testing set* be preprocessed in the same way:\n"
   ]
  },
  {
   "cell_type": "code",
   "execution_count": 7,
   "metadata": {},
   "outputs": [],
   "source": [
    "train_images = train_images / 255.0\n",
    "test_images = test_images / 255.0"
   ]
  },
  {
   "cell_type": "markdown",
   "metadata": {},
   "source": [
    "To verify that the data is in the correct format and that you're ready to build and train the network, let's display the first 25 images from the *training set* and display the class name below each image.\n"
   ]
  },
  {
   "cell_type": "code",
   "execution_count": 8,
   "metadata": {},
   "outputs": [
    {
     "data": {
      "image/png": "[encoded data removed]",
      "text/plain": [
       "<Figure size 720x720 with 25 Axes>"
      ]
     },
     "metadata": {},
     "output_type": "display_data"
    }
   ],
   "source": [
    "plt.figure(figsize=(10, 10))\n",
    "for i in range(25):\n",
    "    plt.subplot(5, 5, i + 1)\n",
    "    plt.xticks([])\n",
    "    plt.yticks([])\n",
    "    plt.grid(False)\n",
    "    plt.imshow(train_images[i], cmap=plt.cm.binary)\n",
    "    plt.xlabel(class_names[train_labels[i]])\n",
    "plt.show()"
   ]
  },
  {
   "cell_type": "markdown",
   "metadata": {},
   "source": [
    "## Build the model\n",
    "\n",
    "Building the neural network requires configuring the layers of the model, then choosing an optimizer and a loss function.\n",
    "\n",
    "### Set up the layers\n",
    "\n",
    "The basic building block of a neural network is the *layer*. Layers extract representations from the data fed into them. Hopefully, these representations are meaningful for the problem at hand.\n",
    "\n",
    "Most of deep learning consists of chaining together simple layers. Most layers, such as `torch.nn.Linear`, have parameters that are learned during training.\n"
   ]
  },
  {
   "cell_type": "code",
   "execution_count": 9,
   "metadata": {},
   "outputs": [
    {
     "name": "stdout",
     "output_type": "stream",
     "text": [
      "Sequential(\n",
      "  (0): Flatten()\n",
      "  (1): Linear(in_features=784, out_features=128, bias=True)\n",
      "  (2): ReLU()\n",
      "  (3): Dropout(p=0.2, inplace=False)\n",
      "  (4): Linear(in_features=128, out_features=10, bias=True)\n",
      ")\n"
     ]
    }
   ],
   "source": [
    "model = nn.Sequential(\n",
    "    nn.Flatten(),\n",
    "    nn.Linear(28 * 28, 128),\n",
    "    nn.ReLU(),\n",
    "    nn.Dropout(0.2),\n",
    "    nn.Linear(128, 10)\n",
    ")\n",
    "print(model)"
   ]
  },
  {
   "cell_type": "markdown",
   "metadata": {},
   "source": [
    "The first layer in this network, ``nn.Flatten``, transforms the format of the images from a two-dimensional array (of 28 by 28 pixels) to a one-dimensional array (of 28 * 28 = 784 pixels). Think of this layer as unstacking rows of pixels in the image and lining them up. This layer has no parameters to learn; it only reformats the data.\n",
    "\n",
    "After the pixels are flattened, the network consists of a sequence of two ``nn.Linear`` layers. These are fully connected neural layers. The first ``Linear`` layer has 128 nodes (or neurons). The second (and last) layer returns a logits array with length of 10. Each node contains a score that indicates the current image belongs to one of the 10 classes. The ``nn.Dropout`` prevents overfitting of the model by randomly removing the connections between ``Linear`` layers. It only affects the model during the training.\n",
    "\n",
    "### Configuring the model\n",
    "\n",
    "Before the model is ready for training, it needs a few more settings. These are used during the model's *training* step:\n",
    "\n",
    "- *Loss function* — This measures how accurate the model is during training. You want to minimize this function to \"steer\" the model in the right direction.\n",
    "- *Optimizer* — This is how the model is updated based on the data it sees and its loss function.\n",
    "- *Metrics* — This is used to monitor the training and testing steps. The following example uses *accuracy*, the fraction of the images that are correctly classified.\n"
   ]
  },
  {
   "cell_type": "code",
   "execution_count": 10,
   "metadata": {},
   "outputs": [],
   "source": [
    "loss_fn = nn.CrossEntropyLoss()\n",
    "optimizer = optim.Adam(model.parameters())\n",
    "\n",
    "def accuracy(predictions, labels):\n",
    "    return np.sum(np.argmax(predictions, axis=1)==labels) / float(labels.size)\n",
    "metrics = {'accuracy': accuracy}"
   ]
  },
  {
   "cell_type": "markdown",
   "metadata": {},
   "source": [
    "The [``nn.CrossEntropyLoss``](https://pytorch.org/docs/stable/generated/torch.nn.CrossEntropyLoss.html#torch.nn.CrossEntropyLoss) loss combines [``nn.LogSoftmax()``](https://pytorch.org/docs/stable/generated/torch.nn.LogSoftmax.html#torch.nn.LogSoftmax) and [``nn.NLLLoss()``](https://pytorch.org/docs/stable/generated/torch.nn.NLLLoss.html#torch.nn.NLLLoss) in one single class.\n",
    "\n",
    "\n",
    "## Train the model\n",
    "\n",
    "Training the neural network model requires the following steps:\n",
    "\n",
    "1. Feed the training data to the model. In this example, the training data is in the `train_images` and `train_labels` arrays.\n",
    "2. The model learns to associate images and labels.\n",
    "3. You ask the model to make predictions about a test set—in this example, the `test_images` array.\n",
    "4. Verify that the predictions match the labels from the `test_labels` array.\n"
   ]
  },
  {
   "cell_type": "code",
   "execution_count": 11,
   "metadata": {},
   "outputs": [],
   "source": [
    "def train_epoch(model, optimizer, loss_fn, metrics, data_loader, verbose=False):\n",
    "    model.train()\n",
    "    mtr_sum = []\n",
    "    for images, labels in data_loader:\n",
    "        optimizer.zero_grad()\n",
    "        preds = model(images)\n",
    "        loss = loss_fn(preds, labels)\n",
    "        loss.backward()\n",
    "        optimizer.step()\n",
    "        summary_batch = {metric: metrics[metric](preds.detach().numpy(), labels.detach().numpy()) \n",
    "                         for metric in metrics}\n",
    "        summary_batch['loss'] = loss.item()\n",
    "        mtr_sum.append(summary_batch)\n",
    "    metrics_mean = {metric: np.mean([mtr[metric] for mtr in mtr_sum]) for metric in mtr_sum[0]}\n",
    "    if verbose:\n",
    "        metrics_string = \" ; \".join(\"{}: {:9.6f}\".format(k, v) for k, v in metrics_mean.items())\n",
    "        print(metrics_string)\n",
    "    return metrics_mean\n",
    "    \n",
    "def evaluate(model, loss_fn, metrics, data_loader, verbose=False):\n",
    "    model.eval()\n",
    "    mtr_sum = []\n",
    "    with torch.no_grad():\n",
    "        for images, labels in data_loader:\n",
    "            preds = model(images)\n",
    "            loss = loss_fn(preds, labels)\n",
    "            summary_batch = {metric: metrics[metric](preds.detach().numpy(), labels.detach().numpy()) \n",
    "                             for metric in metrics}\n",
    "            summary_batch['loss'] = loss.item()\n",
    "            mtr_sum.append(summary_batch)\n",
    "    metrics_mean = {metric: np.mean([mtr[metric] for mtr in mtr_sum]) for metric in mtr_sum[0]}\n",
    "    if verbose:\n",
    "        metrics_string = \" ; \".join(\"{}: {:9.6f}\".format(k, v) for k, v in metrics_mean.items())\n",
    "        print(metrics_string)\n",
    "    return metrics_mean"
   ]
  },
  {
   "cell_type": "markdown",
   "metadata": {},
   "source": [
    "### Feed the model\n",
    "\n",
    "To start training,  call the ``fit`` function—so called because it \"fits\" the model to the training data:\n"
   ]
  },
  {
   "cell_type": "code",
   "execution_count": 12,
   "metadata": {},
   "outputs": [
    {
     "name": "stdout",
     "output_type": "stream",
     "text": [
      "Epoch  1 - Train -> accuracy:  0.807050 ; loss:  0.548353 - Validation -> accuracy:  0.854667 ; loss:  0.400594\n",
      "Epoch  2 - Train -> accuracy:  0.852550 ; loss:  0.406516 - Validation -> accuracy:  0.866900 ; loss:  0.357827\n",
      "Epoch  3 - Train -> accuracy:  0.863933 ; loss:  0.373087 - Validation -> accuracy:  0.880433 ; loss:  0.322332\n",
      "Epoch  4 - Train -> accuracy:  0.871483 ; loss:  0.352439 - Validation -> accuracy:  0.888817 ; loss:  0.303780\n",
      "Epoch  5 - Train -> accuracy:  0.877800 ; loss:  0.336066 - Validation -> accuracy:  0.891833 ; loss:  0.290377\n",
      "Epoch  6 - Train -> accuracy:  0.880817 ; loss:  0.321750 - Validation -> accuracy:  0.888117 ; loss:  0.297356\n",
      "Epoch  7 - Train -> accuracy:  0.884800 ; loss:  0.312478 - Validation -> accuracy:  0.895467 ; loss:  0.277732\n",
      "Epoch  8 - Train -> accuracy:  0.887933 ; loss:  0.303644 - Validation -> accuracy:  0.902367 ; loss:  0.261483\n",
      "Epoch  9 - Train -> accuracy:  0.890067 ; loss:  0.296048 - Validation -> accuracy:  0.902283 ; loss:  0.259030\n",
      "Epoch 10 - Train -> accuracy:  0.891667 ; loss:  0.287831 - Validation -> accuracy:  0.905917 ; loss:  0.253274\n"
     ]
    }
   ],
   "source": [
    "def fit(model, optimizer, loss_fn, metrics, data_loader, epochs=1):\n",
    "    for epoch in range(epochs):\n",
    "        train_metrics = train_epoch(model, optimizer, loss_fn, metrics, data_loader)\n",
    "        val_metrics = evaluate(model, loss_fn, metrics, data_loader)\n",
    "        train_metrics_string = \" ; \".join(\"{}: {:9.6f}\".format(k, v) for k, v in train_metrics.items())\n",
    "        val_metrics_string = \" ; \".join(\"{}: {:9.6f}\".format(k, v) for k, v in val_metrics.items())\n",
    "        print(\"Epoch {:2d} - Train -> {} - Validation -> {}\".format(epoch + 1, train_metrics_string, val_metrics_string))\n",
    "\n",
    "fit(model, optimizer, loss_fn, metrics, train_loader, epochs=10)"
   ]
  },
  {
   "cell_type": "markdown",
   "metadata": {},
   "source": [
    "As the model trains, the loss and accuracy metrics are displayed. This model reaches an accuracy of about 0.91 (or 91%) on the training data. Note that both the train and validation accuracies are on training set, the former has the effect of ``Dropout`` layer and the latter without the effect of ``Dropout`` layer and after the model is trained for that epoch.\n",
    "\n",
    "### Evaluate accuracy\n",
    "\n",
    "Next, compare how the model performs on the test dataset:\n"
   ]
  },
  {
   "cell_type": "code",
   "execution_count": 13,
   "metadata": {},
   "outputs": [
    {
     "name": "stdout",
     "output_type": "stream",
     "text": [
      "accuracy:  0.877396 ; loss:  0.351106\n"
     ]
    },
    {
     "data": {
      "text/plain": [
       "{'accuracy': 0.8773961661341853, 'loss': 0.3511057247738012}"
      ]
     },
     "execution_count": 13,
     "metadata": {},
     "output_type": "execute_result"
    }
   ],
   "source": [
    "evaluate(model, loss_fn, metrics, test_loader, verbose=True)"
   ]
  },
  {
   "cell_type": "markdown",
   "metadata": {},
   "source": [
    "It turns out that the accuracy on the test dataset, about 88%, is a little less than the accuracy on the training dataset. This gap between training accuracy and test accuracy represents *overfitting*. ``Dropout`` layer reduced this gap. Overfitting happens when a machine learning model performs worse on new, previously unseen inputs than it does on the training data.\n",
    "\n",
    "### Make predictions\n",
    "\n",
    "With the model trained, you can use it to make predictions about some images.\n",
    "The model's linear outputs, [logits](https://developers.google.com/machine-learning/glossary#logits). Attach a softmax layer to convert the logits to probabilities, which are easier to interpret.\n"
   ]
  },
  {
   "cell_type": "code",
   "execution_count": 14,
   "metadata": {},
   "outputs": [],
   "source": [
    "probability_model = nn.Sequential(\n",
    "    model, \n",
    "    nn.Softmax(dim=1)\n",
    ")\n",
    "\n",
    "predictions = probability_model(torch.as_tensor(test_images, dtype=torch.float32)).detach().numpy()"
   ]
  },
  {
   "cell_type": "markdown",
   "metadata": {},
   "source": [
    "Here, the model has predicted the label for each image in the testing set. A prediction is an array of 10 numbers. They represent the model's \"confidence\" that the image corresponds to each of the 10 different articles of clothing. You can see which label has the highest confidence value:\n"
   ]
  },
  {
   "cell_type": "code",
   "execution_count": 15,
   "metadata": {},
   "outputs": [
    {
     "name": "stdout",
     "output_type": "stream",
     "text": [
      "Prediction:  9\n",
      "True Label:  9\n"
     ]
    }
   ],
   "source": [
    "print(\"Prediction: \", np.argmax(predictions[0]))\n",
    "print(\"True Label: \", test_labels[0])"
   ]
  },
  {
   "cell_type": "markdown",
   "metadata": {},
   "source": [
    "So, the model is most confident that this image is an ankle boot, or `class_names[9]`. Examining the test label shows that this classification is correct.\n",
    "\n",
    "Graph this to look at the full set of 10 class predictions.\n"
   ]
  },
  {
   "cell_type": "code",
   "execution_count": 16,
   "metadata": {},
   "outputs": [],
   "source": [
    "def plot_image(i, predictions_array, true_label, img):\n",
    "    true_label, img = true_label[i], img[i]\n",
    "    plt.grid(False)\n",
    "    plt.xticks([])\n",
    "    plt.yticks([])\n",
    "    plt.imshow(img, cmap=plt.cm.binary)\n",
    "    predicted_label = np.argmax(predictions_array)\n",
    "    if predicted_label == true_label:\n",
    "        color = 'blue'\n",
    "    else:\n",
    "        color = 'red'\n",
    "    plt.xlabel(\"{} {:2.0f}% ({})\".format(class_names[predicted_label],\n",
    "                                100 * np.max(predictions_array),\n",
    "                                class_names[true_label]),\n",
    "                                color=color)\n",
    "\n",
    "def plot_value_array(i, predictions_array, true_label):\n",
    "    true_label = true_label[i]\n",
    "    plt.grid(False)\n",
    "    plt.xticks(range(10))\n",
    "    plt.yticks([])\n",
    "    thisplot = plt.bar(range(10), predictions_array, color=\"#777777\")\n",
    "    plt.ylim([0, 1])\n",
    "    predicted_label = np.argmax(predictions_array)\n",
    "    thisplot[predicted_label].set_color('red')\n",
    "    thisplot[true_label].set_color('blue')"
   ]
  },
  {
   "cell_type": "markdown",
   "metadata": {},
   "source": [
    "### Verify predictions\n",
    "\n",
    "With the model trained, you can use it to make predictions about some images. Let's plot several images with their predictions. Note that the model can be wrong even when very confident. Correct prediction labels are blue and incorrect prediction labels are red. The number gives the percentage (out of 100) for the predicted label.\n"
   ]
  },
  {
   "cell_type": "code",
   "execution_count": 17,
   "metadata": {},
   "outputs": [
    {
     "data": {
      "image/png": "[encoded data removed]",
      "text/plain": [
       "<Figure size 864x720 with 30 Axes>"
      ]
     },
     "metadata": {
      "needs_background": "light"
     },
     "output_type": "display_data"
    }
   ],
   "source": [
    "# Plot the first X test images, their predicted labels, and the true labels.\n",
    "# Color correct predictions in blue and incorrect predictions in red.\n",
    "num_rows = 5\n",
    "num_cols = 3\n",
    "num_images = num_rows * num_cols\n",
    "plt.figure(figsize=(2 * 2 * num_cols, 2 * num_rows))\n",
    "for i in range(num_images):\n",
    "    plt.subplot(num_rows, 2 * num_cols, 2 * i + 1)\n",
    "    plot_image(i, predictions[i], test_labels, test_images)\n",
    "    plt.subplot(num_rows, 2 * num_cols, 2 * i + 2)\n",
    "    plot_value_array(i, predictions[i], test_labels)\n",
    "plt.tight_layout()\n",
    "plt.show()"
   ]
  },
  {
   "cell_type": "markdown",
   "metadata": {},
   "source": [
    "## Use the trained model\n",
    "\n",
    "Finally, use the trained model to make a prediction about a single image.\n"
   ]
  },
  {
   "cell_type": "code",
   "execution_count": 18,
   "metadata": {},
   "outputs": [
    {
     "name": "stdout",
     "output_type": "stream",
     "text": [
      "(28, 28)\n"
     ]
    }
   ],
   "source": [
    "# Grab an image from the test dataset.\n",
    "img = test_images[1]\n",
    "print(img.shape)"
   ]
  },
  {
   "cell_type": "markdown",
   "metadata": {},
   "source": [
    "``torch`` models are optimized to make predictions on a *batch*, or collection, of examples at once. Accordingly, even though you're using a single image, you need to add it to a list:\n"
   ]
  },
  {
   "cell_type": "code",
   "execution_count": 19,
   "metadata": {},
   "outputs": [
    {
     "name": "stdout",
     "output_type": "stream",
     "text": [
      "(1, 28, 28)\n"
     ]
    }
   ],
   "source": [
    "# Add the image to a batch where it's the only member.\n",
    "img = (np.expand_dims(img, 0))\n",
    "print(img.shape)"
   ]
  },
  {
   "cell_type": "markdown",
   "metadata": {},
   "source": [
    "Now predict the correct label for this image:\n"
   ]
  },
  {
   "cell_type": "code",
   "execution_count": 20,
   "metadata": {},
   "outputs": [
    {
     "name": "stdout",
     "output_type": "stream",
     "text": [
      "[[1.1994919e-05 1.2009325e-13 9.9940467e-01 2.8686753e-10 4.5997844e-04\n",
      "  2.1772880e-14 1.2332939e-04 3.1529577e-24 1.7397536e-10 1.2640401e-16]]\n"
     ]
    }
   ],
   "source": [
    "predictions_single = probability_model(torch.as_tensor(img, dtype=torch.float32)).detach().numpy()\n",
    "print(predictions_single)"
   ]
  },
  {
   "cell_type": "markdown",
   "metadata": {},
   "source": [
    "Now plot the image with its predictions."
   ]
  },
  {
   "cell_type": "code",
   "execution_count": 21,
   "metadata": {},
   "outputs": [
    {
     "data": {
      "image/png": "[encoded data removed]",
      "text/plain": [
       "<Figure size 432x288 with 1 Axes>"
      ]
     },
     "metadata": {
      "needs_background": "light"
     },
     "output_type": "display_data"
    }
   ],
   "source": [
    "plot_value_array(1, predictions_single[0], test_labels)\n",
    "_ = plt.xticks(range(10), class_names, rotation=45)"
   ]
  },
  {
   "cell_type": "markdown",
   "metadata": {},
   "source": [
    "``probability_model`` returns a list of lists—one list for each image in the batch of data. Grab the predictions for our (only) image in the batch:"
   ]
  },
  {
   "cell_type": "code",
   "execution_count": 22,
   "metadata": {},
   "outputs": [
    {
     "data": {
      "text/plain": [
       "2"
      ]
     },
     "execution_count": 22,
     "metadata": {},
     "output_type": "execute_result"
    }
   ],
   "source": [
    "np.argmax(predictions_single[0])"
   ]
  },
  {
   "cell_type": "markdown",
   "metadata": {},
   "source": [
    "And the model predicts a label as expected.\n"
   ]
  },
  {
   "cell_type": "markdown",
   "metadata": {},
   "source": [
    "# Convolutional Neural Networks\n",
    "\n",
    "Now, let's change our model to take advantage of convolutional neural networks. But, we need to add a channels dimension before feeding the data to [``torch.nn.Conv2d``](https://pytorch.org/docs/stable/generated/torch.nn.Conv2d.html#torch.nn.Conv2d).\n"
   ]
  },
  {
   "cell_type": "markdown",
   "metadata": {},
   "source": [
    "There are two ways to build our model. ``nn.Sequential`` can be used to stack layers similar to what we did above. It will be something like this:\n",
    "```python\n",
    "conv_model = nn.Sequential(\n",
    "    nn.Conv2d(1, 32, (3, 3)),\n",
    "    nn.ReLU(),\n",
    "    nn.MaxPool2d(2, 2),\n",
    "    nn.Conv2d(32, 64, (3, 3)),\n",
    "    nn.ReLU(),\n",
    "    nn.MaxPool2d(2, 2),\n",
    "    nn.Flatten(),\n",
    "    nn.Linear(5 * 5 * 64, 128),\n",
    "    nn.ReLU(),\n",
    "    nn.Linear(128, 10)\n",
    ")\n",
    "```\n",
    "\n",
    "But, we build our model by subclassing ``nn.Module``:\n"
   ]
  },
  {
   "cell_type": "code",
   "execution_count": 23,
   "metadata": {},
   "outputs": [
    {
     "name": "stdout",
     "output_type": "stream",
     "text": [
      "Fashion_Mnist_Conv(\n",
      "  (conv1): Conv2d(1, 32, kernel_size=(3, 3), stride=(1, 1))\n",
      "  (pool): MaxPool2d(kernel_size=2, stride=2, padding=0, dilation=1, ceil_mode=False)\n",
      "  (conv2): Conv2d(32, 64, kernel_size=(3, 3), stride=(1, 1))\n",
      "  (flatten): Flatten()\n",
      "  (fc1): Linear(in_features=1600, out_features=128, bias=True)\n",
      "  (fc2): Linear(in_features=128, out_features=10, bias=True)\n",
      ")\n"
     ]
    }
   ],
   "source": [
    "class Fashion_Mnist_Conv(nn.Module):\n",
    "    def __init__(self):\n",
    "        super(Fashion_Mnist_Conv, self).__init__()\n",
    "        self.conv1 = nn.Conv2d(1, 32, (3, 3))\n",
    "        self.pool = nn.MaxPool2d(2, 2)\n",
    "        self.conv2 = nn.Conv2d(32, 64, (3, 3))\n",
    "        self.flatten = nn.Flatten()\n",
    "        self.fc1 = nn.Linear(5 * 5 * 64, 128)\n",
    "        self.fc2 = nn.Linear(128, 10)\n",
    "        \n",
    "    def forward(self, x):\n",
    "        x = nn.functional.relu(self.conv1(x))\n",
    "        x = self.pool(x)\n",
    "        x = nn.functional.relu(self.conv2(x))\n",
    "        x = self.pool(x)\n",
    "        x = self.flatten(x)\n",
    "        x = nn.functional.relu(self.fc1(x))\n",
    "        return self.fc2(x)\n",
    "\n",
    "# Create an instance of the model\n",
    "conv_model = Fashion_Mnist_Conv()\n",
    "print(conv_model)"
   ]
  },
  {
   "cell_type": "markdown",
   "metadata": {},
   "source": [
    "Let's choose an optimizer, loss function, and accuracy as a metric for training of our new model.\n"
   ]
  },
  {
   "cell_type": "code",
   "execution_count": 24,
   "metadata": {},
   "outputs": [],
   "source": [
    "conv_loss_fn = nn.CrossEntropyLoss()\n",
    "conv_optimizer = optim.Adam(conv_model.parameters())\n",
    "metrics = {'accuracy': accuracy}"
   ]
  },
  {
   "cell_type": "markdown",
   "metadata": {},
   "source": [
    "Now we can train our model.\n"
   ]
  },
  {
   "cell_type": "code",
   "execution_count": 25,
   "metadata": {},
   "outputs": [
    {
     "name": "stdout",
     "output_type": "stream",
     "text": [
      "Epoch  1 - Train -> accuracy:  0.834367 ; loss:  0.453338 - Validation -> accuracy:  0.888650 ; loss:  0.305415\n",
      "Epoch  2 - Train -> accuracy:  0.891133 ; loss:  0.298396 - Validation -> accuracy:  0.890067 ; loss:  0.291612\n",
      "Epoch  3 - Train -> accuracy:  0.906350 ; loss:  0.253779 - Validation -> accuracy:  0.914833 ; loss:  0.229719\n",
      "Epoch  4 - Train -> accuracy:  0.917533 ; loss:  0.221060 - Validation -> accuracy:  0.920900 ; loss:  0.208005\n",
      "Epoch  5 - Train -> accuracy:  0.927017 ; loss:  0.196271 - Validation -> accuracy:  0.943883 ; loss:  0.154245\n",
      "Epoch  6 - Train -> accuracy:  0.935000 ; loss:  0.175372 - Validation -> accuracy:  0.945900 ; loss:  0.144674\n",
      "Epoch  7 - Train -> accuracy:  0.941650 ; loss:  0.157197 - Validation -> accuracy:  0.953600 ; loss:  0.129210\n",
      "Epoch  8 - Train -> accuracy:  0.947133 ; loss:  0.140323 - Validation -> accuracy:  0.956917 ; loss:  0.116655\n",
      "Epoch  9 - Train -> accuracy:  0.954033 ; loss:  0.122208 - Validation -> accuracy:  0.965117 ; loss:  0.097094\n",
      "Epoch 10 - Train -> accuracy:  0.958000 ; loss:  0.109045 - Validation -> accuracy:  0.967817 ; loss:  0.089844\n"
     ]
    }
   ],
   "source": [
    "fit(conv_model, conv_optimizer, conv_loss_fn, metrics, train_loader, epochs=10)"
   ]
  },
  {
   "cell_type": "markdown",
   "metadata": {},
   "source": [
    "Now that our model is trained, we can evaluate its performance on the test set.\n"
   ]
  },
  {
   "cell_type": "code",
   "execution_count": 26,
   "metadata": {},
   "outputs": [
    {
     "data": {
      "text/plain": [
       "{'accuracy': 0.9085463258785943, 'loss': 0.28638165053753806}"
      ]
     },
     "execution_count": 26,
     "metadata": {},
     "output_type": "execute_result"
    }
   ],
   "source": [
    "evaluate(conv_model, conv_loss_fn, metrics, test_loader)"
   ]
  },
  {
   "cell_type": "markdown",
   "metadata": {},
   "source": [
    "The image classifier is now trained to ~91% accuracy on this dataset.\n"
   ]
  }
 ],
 "metadata": {
  "kernelspec": {
   "display_name": "Python 3",
   "language": "python",
   "name": "python3"
  },
  "language_info": {
   "codemirror_mode": {
    "name": "ipython",
    "version": 3
   },
   "file_extension": ".py",
   "mimetype": "text/x-python",
   "name": "python",
   "nbconvert_exporter": "python",
   "pygments_lexer": "ipython3",
   "version": "3.8.5"
  }
 },
 "nbformat": 4,
 "nbformat_minor": 4
}
